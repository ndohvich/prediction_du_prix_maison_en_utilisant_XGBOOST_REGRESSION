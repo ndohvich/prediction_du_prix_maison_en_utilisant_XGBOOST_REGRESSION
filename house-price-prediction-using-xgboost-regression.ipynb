{
 "cells": [
  {
   "cell_type": "code",
   "execution_count": 1,
   "id": "31d85d12",
   "metadata": {
    "execution": {
     "iopub.execute_input": "2022-07-02T11:09:23.031373Z",
     "iopub.status.busy": "2022-07-02T11:09:23.030981Z",
     "iopub.status.idle": "2022-07-02T11:09:24.237649Z",
     "shell.execute_reply": "2022-07-02T11:09:24.236548Z"
    },
    "papermill": {
     "duration": 1.217253,
     "end_time": "2022-07-02T11:09:24.241028",
     "exception": false,
     "start_time": "2022-07-02T11:09:23.023775",
     "status": "completed"
    },
    "tags": []
   },
   "outputs": [],
   "source": [
    "import numpy as np\n",
    "import pandas as pd\n",
    "import matplotlib.pyplot as plt\n",
    "import seaborn as sns\n",
    "import sklearn.datasets\n",
    "from sklearn.model_selection import train_test_split\n",
    "from xgboost import XGBRegressor\n",
    "from sklearn import metrics"
   ]
  },
  {
   "cell_type": "code",
   "execution_count": 2,
   "id": "36366be7",
   "metadata": {
    "execution": {
     "iopub.execute_input": "2022-07-02T11:09:24.262135Z",
     "iopub.status.busy": "2022-07-02T11:09:24.261333Z",
     "iopub.status.idle": "2022-07-02T11:09:24.291614Z",
     "shell.execute_reply": "2022-07-02T11:09:24.290345Z"
    },
    "papermill": {
     "duration": 0.042953,
     "end_time": "2022-07-02T11:09:24.297119",
     "exception": false,
     "start_time": "2022-07-02T11:09:24.254166",
     "status": "completed"
    },
    "tags": []
   },
   "outputs": [
    {
     "name": "stdout",
     "output_type": "stream",
     "text": [
      "{'data': array([[6.3200e-03, 1.8000e+01, 2.3100e+00, ..., 1.5300e+01, 3.9690e+02,\n",
      "        4.9800e+00],\n",
      "       [2.7310e-02, 0.0000e+00, 7.0700e+00, ..., 1.7800e+01, 3.9690e+02,\n",
      "        9.1400e+00],\n",
      "       [2.7290e-02, 0.0000e+00, 7.0700e+00, ..., 1.7800e+01, 3.9283e+02,\n",
      "        4.0300e+00],\n",
      "       ...,\n",
      "       [6.0760e-02, 0.0000e+00, 1.1930e+01, ..., 2.1000e+01, 3.9690e+02,\n",
      "        5.6400e+00],\n",
      "       [1.0959e-01, 0.0000e+00, 1.1930e+01, ..., 2.1000e+01, 3.9345e+02,\n",
      "        6.4800e+00],\n",
      "       [4.7410e-02, 0.0000e+00, 1.1930e+01, ..., 2.1000e+01, 3.9690e+02,\n",
      "        7.8800e+00]]), 'target': array([24. , 21.6, 34.7, 33.4, 36.2, 28.7, 22.9, 27.1, 16.5, 18.9, 15. ,\n",
      "       18.9, 21.7, 20.4, 18.2, 19.9, 23.1, 17.5, 20.2, 18.2, 13.6, 19.6,\n",
      "       15.2, 14.5, 15.6, 13.9, 16.6, 14.8, 18.4, 21. , 12.7, 14.5, 13.2,\n",
      "       13.1, 13.5, 18.9, 20. , 21. , 24.7, 30.8, 34.9, 26.6, 25.3, 24.7,\n",
      "       21.2, 19.3, 20. , 16.6, 14.4, 19.4, 19.7, 20.5, 25. , 23.4, 18.9,\n",
      "       35.4, 24.7, 31.6, 23.3, 19.6, 18.7, 16. , 22.2, 25. , 33. , 23.5,\n",
      "       19.4, 22. , 17.4, 20.9, 24.2, 21.7, 22.8, 23.4, 24.1, 21.4, 20. ,\n",
      "       20.8, 21.2, 20.3, 28. , 23.9, 24.8, 22.9, 23.9, 26.6, 22.5, 22.2,\n",
      "       23.6, 28.7, 22.6, 22. , 22.9, 25. , 20.6, 28.4, 21.4, 38.7, 43.8,\n",
      "       33.2, 27.5, 26.5, 18.6, 19.3, 20.1, 19.5, 19.5, 20.4, 19.8, 19.4,\n",
      "       21.7, 22.8, 18.8, 18.7, 18.5, 18.3, 21.2, 19.2, 20.4, 19.3, 22. ,\n",
      "       20.3, 20.5, 17.3, 18.8, 21.4, 15.7, 16.2, 18. , 14.3, 19.2, 19.6,\n",
      "       23. , 18.4, 15.6, 18.1, 17.4, 17.1, 13.3, 17.8, 14. , 14.4, 13.4,\n",
      "       15.6, 11.8, 13.8, 15.6, 14.6, 17.8, 15.4, 21.5, 19.6, 15.3, 19.4,\n",
      "       17. , 15.6, 13.1, 41.3, 24.3, 23.3, 27. , 50. , 50. , 50. , 22.7,\n",
      "       25. , 50. , 23.8, 23.8, 22.3, 17.4, 19.1, 23.1, 23.6, 22.6, 29.4,\n",
      "       23.2, 24.6, 29.9, 37.2, 39.8, 36.2, 37.9, 32.5, 26.4, 29.6, 50. ,\n",
      "       32. , 29.8, 34.9, 37. , 30.5, 36.4, 31.1, 29.1, 50. , 33.3, 30.3,\n",
      "       34.6, 34.9, 32.9, 24.1, 42.3, 48.5, 50. , 22.6, 24.4, 22.5, 24.4,\n",
      "       20. , 21.7, 19.3, 22.4, 28.1, 23.7, 25. , 23.3, 28.7, 21.5, 23. ,\n",
      "       26.7, 21.7, 27.5, 30.1, 44.8, 50. , 37.6, 31.6, 46.7, 31.5, 24.3,\n",
      "       31.7, 41.7, 48.3, 29. , 24. , 25.1, 31.5, 23.7, 23.3, 22. , 20.1,\n",
      "       22.2, 23.7, 17.6, 18.5, 24.3, 20.5, 24.5, 26.2, 24.4, 24.8, 29.6,\n",
      "       42.8, 21.9, 20.9, 44. , 50. , 36. , 30.1, 33.8, 43.1, 48.8, 31. ,\n",
      "       36.5, 22.8, 30.7, 50. , 43.5, 20.7, 21.1, 25.2, 24.4, 35.2, 32.4,\n",
      "       32. , 33.2, 33.1, 29.1, 35.1, 45.4, 35.4, 46. , 50. , 32.2, 22. ,\n",
      "       20.1, 23.2, 22.3, 24.8, 28.5, 37.3, 27.9, 23.9, 21.7, 28.6, 27.1,\n",
      "       20.3, 22.5, 29. , 24.8, 22. , 26.4, 33.1, 36.1, 28.4, 33.4, 28.2,\n",
      "       22.8, 20.3, 16.1, 22.1, 19.4, 21.6, 23.8, 16.2, 17.8, 19.8, 23.1,\n",
      "       21. , 23.8, 23.1, 20.4, 18.5, 25. , 24.6, 23. , 22.2, 19.3, 22.6,\n",
      "       19.8, 17.1, 19.4, 22.2, 20.7, 21.1, 19.5, 18.5, 20.6, 19. , 18.7,\n",
      "       32.7, 16.5, 23.9, 31.2, 17.5, 17.2, 23.1, 24.5, 26.6, 22.9, 24.1,\n",
      "       18.6, 30.1, 18.2, 20.6, 17.8, 21.7, 22.7, 22.6, 25. , 19.9, 20.8,\n",
      "       16.8, 21.9, 27.5, 21.9, 23.1, 50. , 50. , 50. , 50. , 50. , 13.8,\n",
      "       13.8, 15. , 13.9, 13.3, 13.1, 10.2, 10.4, 10.9, 11.3, 12.3,  8.8,\n",
      "        7.2, 10.5,  7.4, 10.2, 11.5, 15.1, 23.2,  9.7, 13.8, 12.7, 13.1,\n",
      "       12.5,  8.5,  5. ,  6.3,  5.6,  7.2, 12.1,  8.3,  8.5,  5. , 11.9,\n",
      "       27.9, 17.2, 27.5, 15. , 17.2, 17.9, 16.3,  7. ,  7.2,  7.5, 10.4,\n",
      "        8.8,  8.4, 16.7, 14.2, 20.8, 13.4, 11.7,  8.3, 10.2, 10.9, 11. ,\n",
      "        9.5, 14.5, 14.1, 16.1, 14.3, 11.7, 13.4,  9.6,  8.7,  8.4, 12.8,\n",
      "       10.5, 17.1, 18.4, 15.4, 10.8, 11.8, 14.9, 12.6, 14.1, 13. , 13.4,\n",
      "       15.2, 16.1, 17.8, 14.9, 14.1, 12.7, 13.5, 14.9, 20. , 16.4, 17.7,\n",
      "       19.5, 20.2, 21.4, 19.9, 19. , 19.1, 19.1, 20.1, 19.9, 19.6, 23.2,\n",
      "       29.8, 13.8, 13.3, 16.7, 12. , 14.6, 21.4, 23. , 23.7, 25. , 21.8,\n",
      "       20.6, 21.2, 19.1, 20.6, 15.2,  7. ,  8.1, 13.6, 20.1, 21.8, 24.5,\n",
      "       23.1, 19.7, 18.3, 21.2, 17.5, 16.8, 22.4, 20.6, 23.9, 22. , 11.9]), 'feature_names': array(['CRIM', 'ZN', 'INDUS', 'CHAS', 'NOX', 'RM', 'AGE', 'DIS', 'RAD',\n",
      "       'TAX', 'PTRATIO', 'B', 'LSTAT'], dtype='<U7'), 'DESCR': \".. _boston_dataset:\\n\\nBoston house prices dataset\\n---------------------------\\n\\n**Data Set Characteristics:**  \\n\\n    :Number of Instances: 506 \\n\\n    :Number of Attributes: 13 numeric/categorical predictive. Median Value (attribute 14) is usually the target.\\n\\n    :Attribute Information (in order):\\n        - CRIM     per capita crime rate by town\\n        - ZN       proportion of residential land zoned for lots over 25,000 sq.ft.\\n        - INDUS    proportion of non-retail business acres per town\\n        - CHAS     Charles River dummy variable (= 1 if tract bounds river; 0 otherwise)\\n        - NOX      nitric oxides concentration (parts per 10 million)\\n        - RM       average number of rooms per dwelling\\n        - AGE      proportion of owner-occupied units built prior to 1940\\n        - DIS      weighted distances to five Boston employment centres\\n        - RAD      index of accessibility to radial highways\\n        - TAX      full-value property-tax rate per $10,000\\n        - PTRATIO  pupil-teacher ratio by town\\n        - B        1000(Bk - 0.63)^2 where Bk is the proportion of black people by town\\n        - LSTAT    % lower status of the population\\n        - MEDV     Median value of owner-occupied homes in $1000's\\n\\n    :Missing Attribute Values: None\\n\\n    :Creator: Harrison, D. and Rubinfeld, D.L.\\n\\nThis is a copy of UCI ML housing dataset.\\nhttps://archive.ics.uci.edu/ml/machine-learning-databases/housing/\\n\\n\\nThis dataset was taken from the StatLib library which is maintained at Carnegie Mellon University.\\n\\nThe Boston house-price data of Harrison, D. and Rubinfeld, D.L. 'Hedonic\\nprices and the demand for clean air', J. Environ. Economics & Management,\\nvol.5, 81-102, 1978.   Used in Belsley, Kuh & Welsch, 'Regression diagnostics\\n...', Wiley, 1980.   N.B. Various transformations are used in the table on\\npages 244-261 of the latter.\\n\\nThe Boston house-price data has been used in many machine learning papers that address regression\\nproblems.   \\n     \\n.. topic:: References\\n\\n   - Belsley, Kuh & Welsch, 'Regression diagnostics: Identifying Influential Data and Sources of Collinearity', Wiley, 1980. 244-261.\\n   - Quinlan,R. (1993). Combining Instance-Based and Model-Based Learning. In Proceedings on the Tenth International Conference of Machine Learning, 236-243, University of Massachusetts, Amherst. Morgan Kaufmann.\\n\", 'filename': 'boston_house_prices.csv', 'data_module': 'sklearn.datasets.data'}\n"
     ]
    },
    {
     "name": "stderr",
     "output_type": "stream",
     "text": [
      "/opt/conda/lib/python3.7/site-packages/sklearn/utils/deprecation.py:87: FutureWarning: Function load_boston is deprecated; `load_boston` is deprecated in 1.0 and will be removed in 1.2.\n",
      "\n",
      "    The Boston housing prices dataset has an ethical problem. You can refer to\n",
      "    the documentation of this function for further details.\n",
      "\n",
      "    The scikit-learn maintainers therefore strongly discourage the use of this\n",
      "    dataset unless the purpose of the code is to study and educate about\n",
      "    ethical issues in data science and machine learning.\n",
      "\n",
      "    In this special case, you can fetch the dataset from the original\n",
      "    source::\n",
      "\n",
      "        import pandas as pd\n",
      "        import numpy as np\n",
      "\n",
      "\n",
      "        data_url = \"http://lib.stat.cmu.edu/datasets/boston\"\n",
      "        raw_df = pd.read_csv(data_url, sep=\"\\s+\", skiprows=22, header=None)\n",
      "        data = np.hstack([raw_df.values[::2, :], raw_df.values[1::2, :2]])\n",
      "        target = raw_df.values[1::2, 2]\n",
      "\n",
      "    Alternative datasets include the California housing dataset (i.e.\n",
      "    :func:`~sklearn.datasets.fetch_california_housing`) and the Ames housing\n",
      "    dataset. You can load the datasets as follows::\n",
      "\n",
      "        from sklearn.datasets import fetch_california_housing\n",
      "        housing = fetch_california_housing()\n",
      "\n",
      "    for the California housing dataset and::\n",
      "\n",
      "        from sklearn.datasets import fetch_openml\n",
      "        housing = fetch_openml(name=\"house_prices\", as_frame=True)\n",
      "\n",
      "    for the Ames housing dataset.\n",
      "    \n",
      "  warnings.warn(msg, category=FutureWarning)\n"
     ]
    }
   ],
   "source": [
    "house_dataset = sklearn.datasets.load_boston()\n",
    "print(house_dataset)"
   ]
  },
  {
   "cell_type": "code",
   "execution_count": 3,
   "id": "d3d8f540",
   "metadata": {
    "execution": {
     "iopub.execute_input": "2022-07-02T11:09:24.320430Z",
     "iopub.status.busy": "2022-07-02T11:09:24.320108Z",
     "iopub.status.idle": "2022-07-02T11:09:24.326671Z",
     "shell.execute_reply": "2022-07-02T11:09:24.325820Z"
    },
    "papermill": {
     "duration": 0.020284,
     "end_time": "2022-07-02T11:09:24.329035",
     "exception": false,
     "start_time": "2022-07-02T11:09:24.308751",
     "status": "completed"
    },
    "tags": []
   },
   "outputs": [],
   "source": [
    "# Loading the dataset to a Pandas DataFrame\n",
    "house_dataframe = pd.DataFrame(house_dataset.data, columns = house_dataset.feature_names)"
   ]
  },
  {
   "cell_type": "code",
   "execution_count": 4,
   "id": "fa606a7c",
   "metadata": {
    "execution": {
     "iopub.execute_input": "2022-07-02T11:09:24.347199Z",
     "iopub.status.busy": "2022-07-02T11:09:24.346875Z",
     "iopub.status.idle": "2022-07-02T11:09:24.385726Z",
     "shell.execute_reply": "2022-07-02T11:09:24.384859Z"
    },
    "papermill": {
     "duration": 0.050591,
     "end_time": "2022-07-02T11:09:24.388186",
     "exception": false,
     "start_time": "2022-07-02T11:09:24.337595",
     "status": "completed"
    },
    "tags": []
   },
   "outputs": [
    {
     "data": {
      "text/html": [
       "<div>\n",
       "<style scoped>\n",
       "    .dataframe tbody tr th:only-of-type {\n",
       "        vertical-align: middle;\n",
       "    }\n",
       "\n",
       "    .dataframe tbody tr th {\n",
       "        vertical-align: top;\n",
       "    }\n",
       "\n",
       "    .dataframe thead th {\n",
       "        text-align: right;\n",
       "    }\n",
       "</style>\n",
       "<table border=\"1\" class=\"dataframe\">\n",
       "  <thead>\n",
       "    <tr style=\"text-align: right;\">\n",
       "      <th></th>\n",
       "      <th>CRIM</th>\n",
       "      <th>ZN</th>\n",
       "      <th>INDUS</th>\n",
       "      <th>CHAS</th>\n",
       "      <th>NOX</th>\n",
       "      <th>RM</th>\n",
       "      <th>AGE</th>\n",
       "      <th>DIS</th>\n",
       "      <th>RAD</th>\n",
       "      <th>TAX</th>\n",
       "      <th>PTRATIO</th>\n",
       "      <th>B</th>\n",
       "      <th>LSTAT</th>\n",
       "    </tr>\n",
       "  </thead>\n",
       "  <tbody>\n",
       "    <tr>\n",
       "      <th>0</th>\n",
       "      <td>0.00632</td>\n",
       "      <td>18.0</td>\n",
       "      <td>2.31</td>\n",
       "      <td>0.0</td>\n",
       "      <td>0.538</td>\n",
       "      <td>6.575</td>\n",
       "      <td>65.2</td>\n",
       "      <td>4.0900</td>\n",
       "      <td>1.0</td>\n",
       "      <td>296.0</td>\n",
       "      <td>15.3</td>\n",
       "      <td>396.90</td>\n",
       "      <td>4.98</td>\n",
       "    </tr>\n",
       "    <tr>\n",
       "      <th>1</th>\n",
       "      <td>0.02731</td>\n",
       "      <td>0.0</td>\n",
       "      <td>7.07</td>\n",
       "      <td>0.0</td>\n",
       "      <td>0.469</td>\n",
       "      <td>6.421</td>\n",
       "      <td>78.9</td>\n",
       "      <td>4.9671</td>\n",
       "      <td>2.0</td>\n",
       "      <td>242.0</td>\n",
       "      <td>17.8</td>\n",
       "      <td>396.90</td>\n",
       "      <td>9.14</td>\n",
       "    </tr>\n",
       "    <tr>\n",
       "      <th>2</th>\n",
       "      <td>0.02729</td>\n",
       "      <td>0.0</td>\n",
       "      <td>7.07</td>\n",
       "      <td>0.0</td>\n",
       "      <td>0.469</td>\n",
       "      <td>7.185</td>\n",
       "      <td>61.1</td>\n",
       "      <td>4.9671</td>\n",
       "      <td>2.0</td>\n",
       "      <td>242.0</td>\n",
       "      <td>17.8</td>\n",
       "      <td>392.83</td>\n",
       "      <td>4.03</td>\n",
       "    </tr>\n",
       "    <tr>\n",
       "      <th>3</th>\n",
       "      <td>0.03237</td>\n",
       "      <td>0.0</td>\n",
       "      <td>2.18</td>\n",
       "      <td>0.0</td>\n",
       "      <td>0.458</td>\n",
       "      <td>6.998</td>\n",
       "      <td>45.8</td>\n",
       "      <td>6.0622</td>\n",
       "      <td>3.0</td>\n",
       "      <td>222.0</td>\n",
       "      <td>18.7</td>\n",
       "      <td>394.63</td>\n",
       "      <td>2.94</td>\n",
       "    </tr>\n",
       "    <tr>\n",
       "      <th>4</th>\n",
       "      <td>0.06905</td>\n",
       "      <td>0.0</td>\n",
       "      <td>2.18</td>\n",
       "      <td>0.0</td>\n",
       "      <td>0.458</td>\n",
       "      <td>7.147</td>\n",
       "      <td>54.2</td>\n",
       "      <td>6.0622</td>\n",
       "      <td>3.0</td>\n",
       "      <td>222.0</td>\n",
       "      <td>18.7</td>\n",
       "      <td>396.90</td>\n",
       "      <td>5.33</td>\n",
       "    </tr>\n",
       "  </tbody>\n",
       "</table>\n",
       "</div>"
      ],
      "text/plain": [
       "      CRIM    ZN  INDUS  CHAS    NOX     RM   AGE     DIS  RAD    TAX  \\\n",
       "0  0.00632  18.0   2.31   0.0  0.538  6.575  65.2  4.0900  1.0  296.0   \n",
       "1  0.02731   0.0   7.07   0.0  0.469  6.421  78.9  4.9671  2.0  242.0   \n",
       "2  0.02729   0.0   7.07   0.0  0.469  7.185  61.1  4.9671  2.0  242.0   \n",
       "3  0.03237   0.0   2.18   0.0  0.458  6.998  45.8  6.0622  3.0  222.0   \n",
       "4  0.06905   0.0   2.18   0.0  0.458  7.147  54.2  6.0622  3.0  222.0   \n",
       "\n",
       "   PTRATIO       B  LSTAT  \n",
       "0     15.3  396.90   4.98  \n",
       "1     17.8  396.90   9.14  \n",
       "2     17.8  392.83   4.03  \n",
       "3     18.7  394.63   2.94  \n",
       "4     18.7  396.90   5.33  "
      ]
     },
     "execution_count": 4,
     "metadata": {},
     "output_type": "execute_result"
    }
   ],
   "source": [
    "# Print First 5 rows of our DataFrame\n",
    "house_dataframe.head()"
   ]
  },
  {
   "cell_type": "code",
   "execution_count": 5,
   "id": "c095d754",
   "metadata": {
    "execution": {
     "iopub.execute_input": "2022-07-02T11:09:24.408814Z",
     "iopub.status.busy": "2022-07-02T11:09:24.408497Z",
     "iopub.status.idle": "2022-07-02T11:09:24.416131Z",
     "shell.execute_reply": "2022-07-02T11:09:24.415204Z"
    },
    "papermill": {
     "duration": 0.022705,
     "end_time": "2022-07-02T11:09:24.420561",
     "exception": false,
     "start_time": "2022-07-02T11:09:24.397856",
     "status": "completed"
    },
    "tags": []
   },
   "outputs": [],
   "source": [
    "# add the target (price) column to the DataFrame\n",
    "house_dataframe['price'] = house_dataset.target"
   ]
  },
  {
   "cell_type": "code",
   "execution_count": 6,
   "id": "cb0cb3d4",
   "metadata": {
    "execution": {
     "iopub.execute_input": "2022-07-02T11:09:24.440856Z",
     "iopub.status.busy": "2022-07-02T11:09:24.440538Z",
     "iopub.status.idle": "2022-07-02T11:09:24.473184Z",
     "shell.execute_reply": "2022-07-02T11:09:24.472346Z"
    },
    "papermill": {
     "duration": 0.045259,
     "end_time": "2022-07-02T11:09:24.475665",
     "exception": false,
     "start_time": "2022-07-02T11:09:24.430406",
     "status": "completed"
    },
    "tags": []
   },
   "outputs": [
    {
     "data": {
      "text/html": [
       "<div>\n",
       "<style scoped>\n",
       "    .dataframe tbody tr th:only-of-type {\n",
       "        vertical-align: middle;\n",
       "    }\n",
       "\n",
       "    .dataframe tbody tr th {\n",
       "        vertical-align: top;\n",
       "    }\n",
       "\n",
       "    .dataframe thead th {\n",
       "        text-align: right;\n",
       "    }\n",
       "</style>\n",
       "<table border=\"1\" class=\"dataframe\">\n",
       "  <thead>\n",
       "    <tr style=\"text-align: right;\">\n",
       "      <th></th>\n",
       "      <th>CRIM</th>\n",
       "      <th>ZN</th>\n",
       "      <th>INDUS</th>\n",
       "      <th>CHAS</th>\n",
       "      <th>NOX</th>\n",
       "      <th>RM</th>\n",
       "      <th>AGE</th>\n",
       "      <th>DIS</th>\n",
       "      <th>RAD</th>\n",
       "      <th>TAX</th>\n",
       "      <th>PTRATIO</th>\n",
       "      <th>B</th>\n",
       "      <th>LSTAT</th>\n",
       "      <th>price</th>\n",
       "    </tr>\n",
       "  </thead>\n",
       "  <tbody>\n",
       "    <tr>\n",
       "      <th>0</th>\n",
       "      <td>0.00632</td>\n",
       "      <td>18.0</td>\n",
       "      <td>2.31</td>\n",
       "      <td>0.0</td>\n",
       "      <td>0.538</td>\n",
       "      <td>6.575</td>\n",
       "      <td>65.2</td>\n",
       "      <td>4.0900</td>\n",
       "      <td>1.0</td>\n",
       "      <td>296.0</td>\n",
       "      <td>15.3</td>\n",
       "      <td>396.90</td>\n",
       "      <td>4.98</td>\n",
       "      <td>24.0</td>\n",
       "    </tr>\n",
       "    <tr>\n",
       "      <th>1</th>\n",
       "      <td>0.02731</td>\n",
       "      <td>0.0</td>\n",
       "      <td>7.07</td>\n",
       "      <td>0.0</td>\n",
       "      <td>0.469</td>\n",
       "      <td>6.421</td>\n",
       "      <td>78.9</td>\n",
       "      <td>4.9671</td>\n",
       "      <td>2.0</td>\n",
       "      <td>242.0</td>\n",
       "      <td>17.8</td>\n",
       "      <td>396.90</td>\n",
       "      <td>9.14</td>\n",
       "      <td>21.6</td>\n",
       "    </tr>\n",
       "    <tr>\n",
       "      <th>2</th>\n",
       "      <td>0.02729</td>\n",
       "      <td>0.0</td>\n",
       "      <td>7.07</td>\n",
       "      <td>0.0</td>\n",
       "      <td>0.469</td>\n",
       "      <td>7.185</td>\n",
       "      <td>61.1</td>\n",
       "      <td>4.9671</td>\n",
       "      <td>2.0</td>\n",
       "      <td>242.0</td>\n",
       "      <td>17.8</td>\n",
       "      <td>392.83</td>\n",
       "      <td>4.03</td>\n",
       "      <td>34.7</td>\n",
       "    </tr>\n",
       "    <tr>\n",
       "      <th>3</th>\n",
       "      <td>0.03237</td>\n",
       "      <td>0.0</td>\n",
       "      <td>2.18</td>\n",
       "      <td>0.0</td>\n",
       "      <td>0.458</td>\n",
       "      <td>6.998</td>\n",
       "      <td>45.8</td>\n",
       "      <td>6.0622</td>\n",
       "      <td>3.0</td>\n",
       "      <td>222.0</td>\n",
       "      <td>18.7</td>\n",
       "      <td>394.63</td>\n",
       "      <td>2.94</td>\n",
       "      <td>33.4</td>\n",
       "    </tr>\n",
       "    <tr>\n",
       "      <th>4</th>\n",
       "      <td>0.06905</td>\n",
       "      <td>0.0</td>\n",
       "      <td>2.18</td>\n",
       "      <td>0.0</td>\n",
       "      <td>0.458</td>\n",
       "      <td>7.147</td>\n",
       "      <td>54.2</td>\n",
       "      <td>6.0622</td>\n",
       "      <td>3.0</td>\n",
       "      <td>222.0</td>\n",
       "      <td>18.7</td>\n",
       "      <td>396.90</td>\n",
       "      <td>5.33</td>\n",
       "      <td>36.2</td>\n",
       "    </tr>\n",
       "  </tbody>\n",
       "</table>\n",
       "</div>"
      ],
      "text/plain": [
       "      CRIM    ZN  INDUS  CHAS    NOX     RM   AGE     DIS  RAD    TAX  \\\n",
       "0  0.00632  18.0   2.31   0.0  0.538  6.575  65.2  4.0900  1.0  296.0   \n",
       "1  0.02731   0.0   7.07   0.0  0.469  6.421  78.9  4.9671  2.0  242.0   \n",
       "2  0.02729   0.0   7.07   0.0  0.469  7.185  61.1  4.9671  2.0  242.0   \n",
       "3  0.03237   0.0   2.18   0.0  0.458  6.998  45.8  6.0622  3.0  222.0   \n",
       "4  0.06905   0.0   2.18   0.0  0.458  7.147  54.2  6.0622  3.0  222.0   \n",
       "\n",
       "   PTRATIO       B  LSTAT  price  \n",
       "0     15.3  396.90   4.98   24.0  \n",
       "1     17.8  396.90   9.14   21.6  \n",
       "2     17.8  392.83   4.03   34.7  \n",
       "3     18.7  394.63   2.94   33.4  \n",
       "4     18.7  396.90   5.33   36.2  "
      ]
     },
     "execution_count": 6,
     "metadata": {},
     "output_type": "execute_result"
    }
   ],
   "source": [
    "house_dataframe.head()"
   ]
  },
  {
   "cell_type": "code",
   "execution_count": 7,
   "id": "d884697b",
   "metadata": {
    "execution": {
     "iopub.execute_input": "2022-07-02T11:09:24.495352Z",
     "iopub.status.busy": "2022-07-02T11:09:24.495045Z",
     "iopub.status.idle": "2022-07-02T11:09:24.500469Z",
     "shell.execute_reply": "2022-07-02T11:09:24.499674Z"
    },
    "papermill": {
     "duration": 0.02057,
     "end_time": "2022-07-02T11:09:24.505842",
     "exception": false,
     "start_time": "2022-07-02T11:09:24.485272",
     "status": "completed"
    },
    "tags": []
   },
   "outputs": [
    {
     "data": {
      "text/plain": [
       "(506, 14)"
      ]
     },
     "execution_count": 7,
     "metadata": {},
     "output_type": "execute_result"
    }
   ],
   "source": [
    "# Numbers lines, Numbers column\n",
    "house_dataframe.shape"
   ]
  },
  {
   "cell_type": "code",
   "execution_count": 8,
   "id": "7f8136d3",
   "metadata": {
    "execution": {
     "iopub.execute_input": "2022-07-02T11:09:24.525277Z",
     "iopub.status.busy": "2022-07-02T11:09:24.524964Z",
     "iopub.status.idle": "2022-07-02T11:09:24.535630Z",
     "shell.execute_reply": "2022-07-02T11:09:24.534849Z"
    },
    "papermill": {
     "duration": 0.023404,
     "end_time": "2022-07-02T11:09:24.538251",
     "exception": false,
     "start_time": "2022-07-02T11:09:24.514847",
     "status": "completed"
    },
    "tags": []
   },
   "outputs": [
    {
     "data": {
      "text/plain": [
       "CRIM       0\n",
       "ZN         0\n",
       "INDUS      0\n",
       "CHAS       0\n",
       "NOX        0\n",
       "RM         0\n",
       "AGE        0\n",
       "DIS        0\n",
       "RAD        0\n",
       "TAX        0\n",
       "PTRATIO    0\n",
       "B          0\n",
       "LSTAT      0\n",
       "price      0\n",
       "dtype: int64"
      ]
     },
     "execution_count": 8,
     "metadata": {},
     "output_type": "execute_result"
    }
   ],
   "source": [
    "# check for missing values\n",
    "house_dataframe.isnull().sum()"
   ]
  },
  {
   "cell_type": "code",
   "execution_count": 9,
   "id": "bcd619aa",
   "metadata": {
    "execution": {
     "iopub.execute_input": "2022-07-02T11:09:24.558169Z",
     "iopub.status.busy": "2022-07-02T11:09:24.557863Z",
     "iopub.status.idle": "2022-07-02T11:09:24.633467Z",
     "shell.execute_reply": "2022-07-02T11:09:24.632675Z"
    },
    "papermill": {
     "duration": 0.088073,
     "end_time": "2022-07-02T11:09:24.635952",
     "exception": false,
     "start_time": "2022-07-02T11:09:24.547879",
     "status": "completed"
    },
    "tags": []
   },
   "outputs": [
    {
     "data": {
      "text/html": [
       "<div>\n",
       "<style scoped>\n",
       "    .dataframe tbody tr th:only-of-type {\n",
       "        vertical-align: middle;\n",
       "    }\n",
       "\n",
       "    .dataframe tbody tr th {\n",
       "        vertical-align: top;\n",
       "    }\n",
       "\n",
       "    .dataframe thead th {\n",
       "        text-align: right;\n",
       "    }\n",
       "</style>\n",
       "<table border=\"1\" class=\"dataframe\">\n",
       "  <thead>\n",
       "    <tr style=\"text-align: right;\">\n",
       "      <th></th>\n",
       "      <th>CRIM</th>\n",
       "      <th>ZN</th>\n",
       "      <th>INDUS</th>\n",
       "      <th>CHAS</th>\n",
       "      <th>NOX</th>\n",
       "      <th>RM</th>\n",
       "      <th>AGE</th>\n",
       "      <th>DIS</th>\n",
       "      <th>RAD</th>\n",
       "      <th>TAX</th>\n",
       "      <th>PTRATIO</th>\n",
       "      <th>B</th>\n",
       "      <th>LSTAT</th>\n",
       "      <th>price</th>\n",
       "    </tr>\n",
       "  </thead>\n",
       "  <tbody>\n",
       "    <tr>\n",
       "      <th>count</th>\n",
       "      <td>506.000000</td>\n",
       "      <td>506.000000</td>\n",
       "      <td>506.000000</td>\n",
       "      <td>506.000000</td>\n",
       "      <td>506.000000</td>\n",
       "      <td>506.000000</td>\n",
       "      <td>506.000000</td>\n",
       "      <td>506.000000</td>\n",
       "      <td>506.000000</td>\n",
       "      <td>506.000000</td>\n",
       "      <td>506.000000</td>\n",
       "      <td>506.000000</td>\n",
       "      <td>506.000000</td>\n",
       "      <td>506.000000</td>\n",
       "    </tr>\n",
       "    <tr>\n",
       "      <th>mean</th>\n",
       "      <td>3.613524</td>\n",
       "      <td>11.363636</td>\n",
       "      <td>11.136779</td>\n",
       "      <td>0.069170</td>\n",
       "      <td>0.554695</td>\n",
       "      <td>6.284634</td>\n",
       "      <td>68.574901</td>\n",
       "      <td>3.795043</td>\n",
       "      <td>9.549407</td>\n",
       "      <td>408.237154</td>\n",
       "      <td>18.455534</td>\n",
       "      <td>356.674032</td>\n",
       "      <td>12.653063</td>\n",
       "      <td>22.532806</td>\n",
       "    </tr>\n",
       "    <tr>\n",
       "      <th>std</th>\n",
       "      <td>8.601545</td>\n",
       "      <td>23.322453</td>\n",
       "      <td>6.860353</td>\n",
       "      <td>0.253994</td>\n",
       "      <td>0.115878</td>\n",
       "      <td>0.702617</td>\n",
       "      <td>28.148861</td>\n",
       "      <td>2.105710</td>\n",
       "      <td>8.707259</td>\n",
       "      <td>168.537116</td>\n",
       "      <td>2.164946</td>\n",
       "      <td>91.294864</td>\n",
       "      <td>7.141062</td>\n",
       "      <td>9.197104</td>\n",
       "    </tr>\n",
       "    <tr>\n",
       "      <th>min</th>\n",
       "      <td>0.006320</td>\n",
       "      <td>0.000000</td>\n",
       "      <td>0.460000</td>\n",
       "      <td>0.000000</td>\n",
       "      <td>0.385000</td>\n",
       "      <td>3.561000</td>\n",
       "      <td>2.900000</td>\n",
       "      <td>1.129600</td>\n",
       "      <td>1.000000</td>\n",
       "      <td>187.000000</td>\n",
       "      <td>12.600000</td>\n",
       "      <td>0.320000</td>\n",
       "      <td>1.730000</td>\n",
       "      <td>5.000000</td>\n",
       "    </tr>\n",
       "    <tr>\n",
       "      <th>25%</th>\n",
       "      <td>0.082045</td>\n",
       "      <td>0.000000</td>\n",
       "      <td>5.190000</td>\n",
       "      <td>0.000000</td>\n",
       "      <td>0.449000</td>\n",
       "      <td>5.885500</td>\n",
       "      <td>45.025000</td>\n",
       "      <td>2.100175</td>\n",
       "      <td>4.000000</td>\n",
       "      <td>279.000000</td>\n",
       "      <td>17.400000</td>\n",
       "      <td>375.377500</td>\n",
       "      <td>6.950000</td>\n",
       "      <td>17.025000</td>\n",
       "    </tr>\n",
       "    <tr>\n",
       "      <th>50%</th>\n",
       "      <td>0.256510</td>\n",
       "      <td>0.000000</td>\n",
       "      <td>9.690000</td>\n",
       "      <td>0.000000</td>\n",
       "      <td>0.538000</td>\n",
       "      <td>6.208500</td>\n",
       "      <td>77.500000</td>\n",
       "      <td>3.207450</td>\n",
       "      <td>5.000000</td>\n",
       "      <td>330.000000</td>\n",
       "      <td>19.050000</td>\n",
       "      <td>391.440000</td>\n",
       "      <td>11.360000</td>\n",
       "      <td>21.200000</td>\n",
       "    </tr>\n",
       "    <tr>\n",
       "      <th>75%</th>\n",
       "      <td>3.677083</td>\n",
       "      <td>12.500000</td>\n",
       "      <td>18.100000</td>\n",
       "      <td>0.000000</td>\n",
       "      <td>0.624000</td>\n",
       "      <td>6.623500</td>\n",
       "      <td>94.075000</td>\n",
       "      <td>5.188425</td>\n",
       "      <td>24.000000</td>\n",
       "      <td>666.000000</td>\n",
       "      <td>20.200000</td>\n",
       "      <td>396.225000</td>\n",
       "      <td>16.955000</td>\n",
       "      <td>25.000000</td>\n",
       "    </tr>\n",
       "    <tr>\n",
       "      <th>max</th>\n",
       "      <td>88.976200</td>\n",
       "      <td>100.000000</td>\n",
       "      <td>27.740000</td>\n",
       "      <td>1.000000</td>\n",
       "      <td>0.871000</td>\n",
       "      <td>8.780000</td>\n",
       "      <td>100.000000</td>\n",
       "      <td>12.126500</td>\n",
       "      <td>24.000000</td>\n",
       "      <td>711.000000</td>\n",
       "      <td>22.000000</td>\n",
       "      <td>396.900000</td>\n",
       "      <td>37.970000</td>\n",
       "      <td>50.000000</td>\n",
       "    </tr>\n",
       "  </tbody>\n",
       "</table>\n",
       "</div>"
      ],
      "text/plain": [
       "             CRIM          ZN       INDUS        CHAS         NOX          RM  \\\n",
       "count  506.000000  506.000000  506.000000  506.000000  506.000000  506.000000   \n",
       "mean     3.613524   11.363636   11.136779    0.069170    0.554695    6.284634   \n",
       "std      8.601545   23.322453    6.860353    0.253994    0.115878    0.702617   \n",
       "min      0.006320    0.000000    0.460000    0.000000    0.385000    3.561000   \n",
       "25%      0.082045    0.000000    5.190000    0.000000    0.449000    5.885500   \n",
       "50%      0.256510    0.000000    9.690000    0.000000    0.538000    6.208500   \n",
       "75%      3.677083   12.500000   18.100000    0.000000    0.624000    6.623500   \n",
       "max     88.976200  100.000000   27.740000    1.000000    0.871000    8.780000   \n",
       "\n",
       "              AGE         DIS         RAD         TAX     PTRATIO           B  \\\n",
       "count  506.000000  506.000000  506.000000  506.000000  506.000000  506.000000   \n",
       "mean    68.574901    3.795043    9.549407  408.237154   18.455534  356.674032   \n",
       "std     28.148861    2.105710    8.707259  168.537116    2.164946   91.294864   \n",
       "min      2.900000    1.129600    1.000000  187.000000   12.600000    0.320000   \n",
       "25%     45.025000    2.100175    4.000000  279.000000   17.400000  375.377500   \n",
       "50%     77.500000    3.207450    5.000000  330.000000   19.050000  391.440000   \n",
       "75%     94.075000    5.188425   24.000000  666.000000   20.200000  396.225000   \n",
       "max    100.000000   12.126500   24.000000  711.000000   22.000000  396.900000   \n",
       "\n",
       "            LSTAT       price  \n",
       "count  506.000000  506.000000  \n",
       "mean    12.653063   22.532806  \n",
       "std      7.141062    9.197104  \n",
       "min      1.730000    5.000000  \n",
       "25%      6.950000   17.025000  \n",
       "50%     11.360000   21.200000  \n",
       "75%     16.955000   25.000000  \n",
       "max     37.970000   50.000000  "
      ]
     },
     "execution_count": 9,
     "metadata": {},
     "output_type": "execute_result"
    }
   ],
   "source": [
    "house_dataframe.describe()"
   ]
  },
  {
   "cell_type": "code",
   "execution_count": 10,
   "id": "539bedc3",
   "metadata": {
    "execution": {
     "iopub.execute_input": "2022-07-02T11:09:24.658549Z",
     "iopub.status.busy": "2022-07-02T11:09:24.658236Z",
     "iopub.status.idle": "2022-07-02T11:09:24.665147Z",
     "shell.execute_reply": "2022-07-02T11:09:24.664104Z"
    },
    "papermill": {
     "duration": 0.023397,
     "end_time": "2022-07-02T11:09:24.669951",
     "exception": false,
     "start_time": "2022-07-02T11:09:24.646554",
     "status": "completed"
    },
    "tags": []
   },
   "outputs": [],
   "source": [
    "# determine the correlation between several variables\n",
    "correlation = house_dataframe.corr()"
   ]
  },
  {
   "cell_type": "code",
   "execution_count": 11,
   "id": "7f40c735",
   "metadata": {
    "execution": {
     "iopub.execute_input": "2022-07-02T11:09:24.694722Z",
     "iopub.status.busy": "2022-07-02T11:09:24.694370Z",
     "iopub.status.idle": "2022-07-02T11:09:25.564048Z",
     "shell.execute_reply": "2022-07-02T11:09:25.563129Z"
    },
    "papermill": {
     "duration": 0.884859,
     "end_time": "2022-07-02T11:09:25.566524",
     "exception": false,
     "start_time": "2022-07-02T11:09:24.681665",
     "status": "completed"
    },
    "tags": []
   },
   "outputs": [
    {
     "data": {
      "text/plain": [
       "<AxesSubplot:>"
      ]
     },
     "execution_count": 11,
     "metadata": {},
     "output_type": "execute_result"
    },
    {
     "data": {
      "image/png": "[encoded data removed]",
      "text/plain": [
       "<Figure size 720x720 with 2 Axes>"
      ]
     },
     "metadata": {
      "needs_background": "light"
     },
     "output_type": "display_data"
    }
   ],
   "source": [
    "# constructing a heatmap to nderstand the correlation\n",
    "plt.figure(figsize=(10,10))\n",
    "sns.heatmap(correlation, cbar=True, square=True, fmt='.1f', annot=True, annot_kws={'size':8}, cmap='Blues')"
   ]
  },
  {
   "cell_type": "code",
   "execution_count": 12,
   "id": "e2d66423",
   "metadata": {
    "execution": {
     "iopub.execute_input": "2022-07-02T11:09:25.583535Z",
     "iopub.status.busy": "2022-07-02T11:09:25.583259Z",
     "iopub.status.idle": "2022-07-02T11:09:25.588682Z",
     "shell.execute_reply": "2022-07-02T11:09:25.587683Z"
    },
    "papermill": {
     "duration": 0.016869,
     "end_time": "2022-07-02T11:09:25.591078",
     "exception": false,
     "start_time": "2022-07-02T11:09:25.574209",
     "status": "completed"
    },
    "tags": []
   },
   "outputs": [],
   "source": [
    "# Splitting the data and Target\n",
    "X = house_dataframe.drop(['price'], axis=1)\n",
    "Y = house_dataframe['price']"
   ]
  },
  {
   "cell_type": "code",
   "execution_count": 13,
   "id": "f746ade0",
   "metadata": {
    "execution": {
     "iopub.execute_input": "2022-07-02T11:09:25.606359Z",
     "iopub.status.busy": "2022-07-02T11:09:25.606116Z",
     "iopub.status.idle": "2022-07-02T11:09:25.621836Z",
     "shell.execute_reply": "2022-07-02T11:09:25.620854Z"
    },
    "papermill": {
     "duration": 0.027559,
     "end_time": "2022-07-02T11:09:25.625719",
     "exception": false,
     "start_time": "2022-07-02T11:09:25.598160",
     "status": "completed"
    },
    "tags": []
   },
   "outputs": [
    {
     "name": "stdout",
     "output_type": "stream",
     "text": [
      "        CRIM    ZN  INDUS  CHAS    NOX     RM   AGE     DIS  RAD    TAX  \\\n",
      "0    0.00632  18.0   2.31   0.0  0.538  6.575  65.2  4.0900  1.0  296.0   \n",
      "1    0.02731   0.0   7.07   0.0  0.469  6.421  78.9  4.9671  2.0  242.0   \n",
      "2    0.02729   0.0   7.07   0.0  0.469  7.185  61.1  4.9671  2.0  242.0   \n",
      "3    0.03237   0.0   2.18   0.0  0.458  6.998  45.8  6.0622  3.0  222.0   \n",
      "4    0.06905   0.0   2.18   0.0  0.458  7.147  54.2  6.0622  3.0  222.0   \n",
      "..       ...   ...    ...   ...    ...    ...   ...     ...  ...    ...   \n",
      "501  0.06263   0.0  11.93   0.0  0.573  6.593  69.1  2.4786  1.0  273.0   \n",
      "502  0.04527   0.0  11.93   0.0  0.573  6.120  76.7  2.2875  1.0  273.0   \n",
      "503  0.06076   0.0  11.93   0.0  0.573  6.976  91.0  2.1675  1.0  273.0   \n",
      "504  0.10959   0.0  11.93   0.0  0.573  6.794  89.3  2.3889  1.0  273.0   \n",
      "505  0.04741   0.0  11.93   0.0  0.573  6.030  80.8  2.5050  1.0  273.0   \n",
      "\n",
      "     PTRATIO       B  LSTAT  \n",
      "0       15.3  396.90   4.98  \n",
      "1       17.8  396.90   9.14  \n",
      "2       17.8  392.83   4.03  \n",
      "3       18.7  394.63   2.94  \n",
      "4       18.7  396.90   5.33  \n",
      "..       ...     ...    ...  \n",
      "501     21.0  391.99   9.67  \n",
      "502     21.0  396.90   9.08  \n",
      "503     21.0  396.90   5.64  \n",
      "504     21.0  393.45   6.48  \n",
      "505     21.0  396.90   7.88  \n",
      "\n",
      "[506 rows x 13 columns]\n",
      "0      24.0\n",
      "1      21.6\n",
      "2      34.7\n",
      "3      33.4\n",
      "4      36.2\n",
      "       ... \n",
      "501    22.4\n",
      "502    20.6\n",
      "503    23.9\n",
      "504    22.0\n",
      "505    11.9\n",
      "Name: price, Length: 506, dtype: float64\n"
     ]
    }
   ],
   "source": [
    "print(X)\n",
    "print(Y)"
   ]
  },
  {
   "cell_type": "code",
   "execution_count": 14,
   "id": "8da6a021",
   "metadata": {
    "execution": {
     "iopub.execute_input": "2022-07-02T11:09:25.642374Z",
     "iopub.status.busy": "2022-07-02T11:09:25.641838Z",
     "iopub.status.idle": "2022-07-02T11:09:25.647965Z",
     "shell.execute_reply": "2022-07-02T11:09:25.647142Z"
    },
    "papermill": {
     "duration": 0.016493,
     "end_time": "2022-07-02T11:09:25.649817",
     "exception": false,
     "start_time": "2022-07-02T11:09:25.633324",
     "status": "completed"
    },
    "tags": []
   },
   "outputs": [],
   "source": [
    "#Splitting the data into Training data and Test data\n",
    "X_train, X_test, Y_train, Y_test = train_test_split(X, Y, test_size = 0.2, random_state = 2)"
   ]
  },
  {
   "cell_type": "code",
   "execution_count": 15,
   "id": "e017ec90",
   "metadata": {
    "execution": {
     "iopub.execute_input": "2022-07-02T11:09:25.665371Z",
     "iopub.status.busy": "2022-07-02T11:09:25.665131Z",
     "iopub.status.idle": "2022-07-02T11:09:25.669750Z",
     "shell.execute_reply": "2022-07-02T11:09:25.668858Z"
    },
    "papermill": {
     "duration": 0.015016,
     "end_time": "2022-07-02T11:09:25.672198",
     "exception": false,
     "start_time": "2022-07-02T11:09:25.657182",
     "status": "completed"
    },
    "tags": []
   },
   "outputs": [
    {
     "name": "stdout",
     "output_type": "stream",
     "text": [
      "(506, 13) (404, 13) (102, 13)\n"
     ]
    }
   ],
   "source": [
    "print(X.shape,X_train.shape,X_test.shape)"
   ]
  },
  {
   "cell_type": "code",
   "execution_count": 16,
   "id": "84f9a511",
   "metadata": {
    "execution": {
     "iopub.execute_input": "2022-07-02T11:09:25.688012Z",
     "iopub.status.busy": "2022-07-02T11:09:25.687456Z",
     "iopub.status.idle": "2022-07-02T11:09:25.692112Z",
     "shell.execute_reply": "2022-07-02T11:09:25.691133Z"
    },
    "papermill": {
     "duration": 0.014595,
     "end_time": "2022-07-02T11:09:25.693972",
     "exception": false,
     "start_time": "2022-07-02T11:09:25.679377",
     "status": "completed"
    },
    "tags": []
   },
   "outputs": [],
   "source": [
    "# Model Training\n",
    "# XGBOOST Regression\n",
    "model = XGBRegressor()"
   ]
  },
  {
   "cell_type": "code",
   "execution_count": 17,
   "id": "9b3d485e",
   "metadata": {
    "execution": {
     "iopub.execute_input": "2022-07-02T11:09:25.710719Z",
     "iopub.status.busy": "2022-07-02T11:09:25.710119Z",
     "iopub.status.idle": "2022-07-02T11:09:28.572775Z",
     "shell.execute_reply": "2022-07-02T11:09:28.572032Z"
    },
    "papermill": {
     "duration": 2.873223,
     "end_time": "2022-07-02T11:09:28.574998",
     "exception": false,
     "start_time": "2022-07-02T11:09:25.701775",
     "status": "completed"
    },
    "tags": []
   },
   "outputs": [
    {
     "data": {
      "text/plain": [
       "XGBRegressor(base_score=0.5, booster='gbtree', callbacks=None,\n",
       "             colsample_bylevel=1, colsample_bynode=1, colsample_bytree=1,\n",
       "             early_stopping_rounds=None, enable_categorical=False,\n",
       "             eval_metric=None, gamma=0, gpu_id=-1, grow_policy='depthwise',\n",
       "             importance_type=None, interaction_constraints='',\n",
       "             learning_rate=0.300000012, max_bin=256, max_cat_to_onehot=4,\n",
       "             max_delta_step=0, max_depth=6, max_leaves=0, min_child_weight=1,\n",
       "             missing=nan, monotone_constraints='()', n_estimators=100, n_jobs=0,\n",
       "             num_parallel_tree=1, predictor='auto', random_state=0, reg_alpha=0,\n",
       "             reg_lambda=1, ...)"
      ]
     },
     "execution_count": 17,
     "metadata": {},
     "output_type": "execute_result"
    }
   ],
   "source": [
    "# model training\n",
    "model.fit(X_train,Y_train)"
   ]
  },
  {
   "cell_type": "code",
   "execution_count": 18,
   "id": "fd4cb075",
   "metadata": {
    "execution": {
     "iopub.execute_input": "2022-07-02T11:09:28.592166Z",
     "iopub.status.busy": "2022-07-02T11:09:28.591473Z",
     "iopub.status.idle": "2022-07-02T11:09:28.598879Z",
     "shell.execute_reply": "2022-07-02T11:09:28.598220Z"
    },
    "papermill": {
     "duration": 0.017414,
     "end_time": "2022-07-02T11:09:28.600598",
     "exception": false,
     "start_time": "2022-07-02T11:09:28.583184",
     "status": "completed"
    },
    "tags": []
   },
   "outputs": [],
   "source": [
    "# accuracy for prediction on training data\n",
    "training_data_prediction = model.predict(X_train)"
   ]
  },
  {
   "cell_type": "code",
   "execution_count": 19,
   "id": "7be44baf",
   "metadata": {
    "execution": {
     "iopub.execute_input": "2022-07-02T11:09:28.619186Z",
     "iopub.status.busy": "2022-07-02T11:09:28.618936Z",
     "iopub.status.idle": "2022-07-02T11:09:28.627074Z",
     "shell.execute_reply": "2022-07-02T11:09:28.626086Z"
    },
    "papermill": {
     "duration": 0.021378,
     "end_time": "2022-07-02T11:09:28.631324",
     "exception": false,
     "start_time": "2022-07-02T11:09:28.609946",
     "status": "completed"
    },
    "tags": []
   },
   "outputs": [
    {
     "name": "stdout",
     "output_type": "stream",
     "text": [
      "[23.147501  20.99463   20.090284  34.69053   13.903663  13.510157\n",
      " 21.998634  15.1940975 10.899711  22.709627  13.832816   5.592794\n",
      " 29.810236  49.99096   34.89215   20.607384  23.351097  19.23555\n",
      " 32.695698  19.641418  26.991022   8.401829  46.00729   21.708961\n",
      " 27.062933  19.321356  19.288303  24.809872  22.61626   31.70493\n",
      " 18.542515   8.697379  17.395294  23.700663  13.304856  10.492197\n",
      " 12.688369  25.016556  19.67495   14.902088  24.193798  25.007143\n",
      " 14.900281  16.995798  15.6009035 12.699232  24.51537   14.999952\n",
      " 50.00104   17.525454  21.184624  31.998049  15.613355  22.89754\n",
      " 19.325378  18.717896  23.301125  37.222923  30.09486   33.102703\n",
      " 21.00072   49.999332  13.405827   5.0280113 16.492886   8.405072\n",
      " 28.64328   19.499939  20.586452  45.402164  39.79833   33.407326\n",
      " 19.83506   33.406372  25.271482  50.001534  12.521657  17.457413\n",
      " 18.61758   22.602625  50.002117  23.801117  23.317268  23.087355\n",
      " 41.700035  16.119293  31.620516  36.069206   7.0022025 20.3827\n",
      " 19.996452  11.986318  25.023014  49.970123  37.881588  23.123034\n",
      " 41.292133  17.596548  16.305374  30.034231  22.860699  19.810343\n",
      " 17.098848  18.898268  18.96717   22.606049  23.141363  33.183487\n",
      " 15.010934  11.693824  18.78828   20.80524   17.99983   19.68991\n",
      " 50.00332   17.207317  16.404053  17.520426  14.593481  33.110855\n",
      " 14.508482  43.821655  34.939106  20.381636  14.655634   8.094332\n",
      " 11.7662115 11.846876  18.69599    6.314154  23.983706  13.084503\n",
      " 19.603905  49.989143  22.300608  18.930315  31.197134  20.69645\n",
      " 32.21111   36.15102   14.240763  15.698188  49.99381   20.423601\n",
      " 16.184978  13.409128  50.01321   31.602146  12.271495  19.219482\n",
      " 29.794909  31.536846  22.798779  10.189648  24.08648   23.710463\n",
      " 21.991894  13.802495  28.420696  33.181534  13.105958  18.988266\n",
      " 26.576572  36.967175  30.794083  22.77071   10.201246  22.213818\n",
      " 24.483162  36.178806  23.09194   20.097307  19.470194  10.786644\n",
      " 22.671095  19.502405  20.109184   9.611871  42.799637  48.794792\n",
      " 13.097208  20.28583   24.793974  14.110478  21.701134  22.217012\n",
      " 33.003544  21.11041   25.00658   19.122992  32.398567  13.605098\n",
      " 15.1145315 23.088867  27.474783  19.364998  26.487135  27.499458\n",
      " 28.697094  21.21718   18.703201  26.775208  14.010719  21.692347\n",
      " 18.372562  43.11582   29.081839  20.289959  23.680176  18.308306\n",
      " 17.204844  18.320065  24.393475  26.396057  19.094141  13.3019905\n",
      " 22.15311   22.185797   8.516214  18.894428  21.792608  19.331121\n",
      " 18.197924   7.5006843 22.406403  20.004215  14.412416  22.503702\n",
      " 28.53306   21.591028  13.810223  20.497831  21.898977  23.104464\n",
      " 49.99585   16.242056  30.294561  50.001595  17.771557  19.053703\n",
      " 10.399217  20.378187  16.49973   17.183376  16.70228   19.495337\n",
      " 30.507633  28.98067   19.528809  23.148346  24.391027   9.521643\n",
      " 23.886024  49.995125  21.167099  22.597813  19.965279  13.4072275\n",
      " 19.948694  17.087479  12.738807  23.00453   15.222122  20.604322\n",
      " 26.207253  18.09243   24.090246  14.105     21.689667  20.08065\n",
      " 25.010437  27.874954  22.92366   18.509727  22.190847  24.004797\n",
      " 14.788686  19.89675   24.39812   17.796036  24.556297  31.970308\n",
      " 17.774675  23.356768  16.134794  13.009915  10.98219   24.28906\n",
      " 15.56895   35.209793  19.605724  42.301712   8.797891  24.400295\n",
      " 14.086652  15.408639  17.301126  22.127419  23.09363   44.79579\n",
      " 17.776684  31.50014   22.835577  16.888603  23.925127  12.097476\n",
      " 38.685944  21.388391  15.98878   23.912495  11.909485  24.960499\n",
      "  7.2018585 24.696215  18.201897  22.489008  23.03332   24.260433\n",
      " 17.101519  17.805563  13.493165  27.105328  13.311978  21.913465\n",
      " 20.00738   15.405392  16.595737  22.301016  24.708412  21.422579\n",
      " 22.878702  29.606575  21.877811  19.900253  29.605219  23.407152\n",
      " 13.781474  24.454706  11.897682   7.2203646 20.521074   9.725295\n",
      " 48.30087   25.19501   11.688618  17.404732  14.480284  28.618876\n",
      " 19.397131  22.468653   7.0117908 20.602013  22.970919  19.719397\n",
      " 23.693787  25.048244  27.977154  13.393578  14.513882  20.309145\n",
      " 19.306028  24.095829  14.894031  26.382381  33.298378  23.61644\n",
      " 24.591206  18.514652  20.900269  10.406055  23.303423  13.092017\n",
      " 24.675085  22.582184  20.502762  16.820635  10.220605  33.81239\n",
      " 18.608067  49.999187  23.775583  23.909609  21.192276  18.805798\n",
      "  8.502987  21.50807   23.204473  21.012218  16.611097  28.100965\n",
      " 21.193024  28.419638  14.294126  49.99958   30.988504  24.991066\n",
      " 21.433628  18.975573  28.991457  15.206939  22.817244  21.765755\n",
      " 19.915497  23.7961   ]\n"
     ]
    }
   ],
   "source": [
    "print(training_data_prediction)"
   ]
  },
  {
   "cell_type": "code",
   "execution_count": 20,
   "id": "20c3551b",
   "metadata": {
    "execution": {
     "iopub.execute_input": "2022-07-02T11:09:28.647364Z",
     "iopub.status.busy": "2022-07-02T11:09:28.647123Z",
     "iopub.status.idle": "2022-07-02T11:09:28.653929Z",
     "shell.execute_reply": "2022-07-02T11:09:28.652827Z"
    },
    "papermill": {
     "duration": 0.017653,
     "end_time": "2022-07-02T11:09:28.656426",
     "exception": false,
     "start_time": "2022-07-02T11:09:28.638773",
     "status": "completed"
    },
    "tags": []
   },
   "outputs": [
    {
     "name": "stdout",
     "output_type": "stream",
     "text": [
      "R squared error :  0.9999948236320982\n",
      "Mean Absolute Error :  0.0145848437110976\n"
     ]
    }
   ],
   "source": [
    "# R squared error\n",
    "score_1 = metrics.r2_score(Y_train, training_data_prediction)\n",
    "\n",
    "# Mean Absolute Error\n",
    "score_2 = metrics.mean_absolute_error(Y_train, training_data_prediction)\n",
    "\n",
    "print(\"R squared error : \", score_1)\n",
    "print('Mean Absolute Error : ', score_2)"
   ]
  },
  {
   "cell_type": "code",
   "execution_count": 21,
   "id": "f6b10958",
   "metadata": {
    "execution": {
     "iopub.execute_input": "2022-07-02T11:09:28.674534Z",
     "iopub.status.busy": "2022-07-02T11:09:28.673730Z",
     "iopub.status.idle": "2022-07-02T11:09:28.847695Z",
     "shell.execute_reply": "2022-07-02T11:09:28.846738Z"
    },
    "papermill": {
     "duration": 0.185017,
     "end_time": "2022-07-02T11:09:28.849902",
     "exception": false,
     "start_time": "2022-07-02T11:09:28.664885",
     "status": "completed"
    },
    "tags": []
   },
   "outputs": [
    {
     "data": {
      "image/png": "[encoded data removed]",
      "text/plain": [
       "<Figure size 432x288 with 1 Axes>"
      ]
     },
     "metadata": {
      "needs_background": "light"
     },
     "output_type": "display_data"
    }
   ],
   "source": [
    "plt.scatter(Y_train, training_data_prediction)\n",
    "plt.xlabel(\"Prix réels\")\n",
    "plt.ylabel(\"Prix prédits\")\n",
    "plt.title(\"Prix réel vs prix prévu\")\n",
    "plt.show()"
   ]
  }
 ],
 "metadata": {
  "kernelspec": {
   "display_name": "Python 3",
   "language": "python",
   "name": "python3"
  },
  "language_info": {
   "codemirror_mode": {
    "name": "ipython",
    "version": 3
   },
   "file_extension": ".py",
   "mimetype": "text/x-python",
   "name": "python",
   "nbconvert_exporter": "python",
   "pygments_lexer": "ipython3",
   "version": "3.7.12"
  },
  "papermill": {
   "default_parameters": {},
   "duration": 15.378785,
   "end_time": "2022-07-02T11:09:29.979904",
   "environment_variables": {},
   "exception": null,
   "input_path": "__notebook__.ipynb",
   "output_path": "__notebook__.ipynb",
   "parameters": {},
   "start_time": "2022-07-02T11:09:14.601119",
   "version": "2.3.4"
  }
 },
 "nbformat": 4,
 "nbformat_minor": 5
}
